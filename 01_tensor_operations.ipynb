{
  "nbformat": 4,
  "nbformat_minor": 0,
  "metadata": {
    "kernelspec": {
      "display_name": "Python 3",
      "language": "python",
      "name": "python3"
    },
    "language_info": {
      "codemirror_mode": {
        "name": "ipython",
        "version": 3
      },
      "file_extension": ".py",
      "mimetype": "text/x-python",
      "name": "python",
      "nbconvert_exporter": "python",
      "pygments_lexer": "ipython3",
      "version": "3.7.6"
    },
    "colab": {
      "name": "01-tensor-operations.ipynb",
      "provenance": [],
      "include_colab_link": true
    }
  },
  "cells": [
    {
      "cell_type": "markdown",
      "metadata": {
        "id": "view-in-github",
        "colab_type": "text"
      },
      "source": [
        "<a href=\"https://colab.research.google.com/github/riyakothari/Pytorch-implementations/blob/master/01_tensor_operations.ipynb\" target=\"_parent\"><img src=\"https://colab.research.google.com/assets/colab-badge.svg\" alt=\"Open In Colab\"/></a>"
      ]
    },
    {
      "cell_type": "markdown",
      "metadata": {
        "id": "axFxHSWg_hyW",
        "colab_type": "text"
      },
      "source": [
        "# Title Here\n",
        "\n",
        "### Subtitle Here\n",
        "\n",
        "An short introduction about PyTorch and about the chosen functions. \n",
        "- function 1\n",
        "- function 2\n",
        "- function 3\n",
        "- function 4\n",
        "- function 5"
      ]
    },
    {
      "cell_type": "code",
      "metadata": {
        "id": "Ok2vXG-i_hyY",
        "colab_type": "code",
        "colab": {}
      },
      "source": [
        "# Import torch and other required modules\n",
        "import torch"
      ],
      "execution_count": 1,
      "outputs": []
    },
    {
      "cell_type": "markdown",
      "metadata": {
        "id": "nihSh15Q_hye",
        "colab_type": "text"
      },
      "source": [
        "## Function 1 - torch.tensor (change this)\n",
        "\n",
        "Add some explanations"
      ]
    },
    {
      "cell_type": "code",
      "metadata": {
        "id": "nMpLPXM6_hyf",
        "colab_type": "code",
        "colab": {
          "base_uri": "https://localhost:8080/",
          "height": 50
        },
        "outputId": "cd11a057-ba19-48e6-c510-54924343e9b4"
      },
      "source": [
        "# torch.new_ones\n",
        "tensor = torch.tensor((), dtype=torch.int32)\n",
        "tensor.new_ones(size=[2,3])"
      ],
      "execution_count": 6,
      "outputs": [
        {
          "output_type": "execute_result",
          "data": {
            "text/plain": [
              "tensor([[1, 1, 1],\n",
              "        [1, 1, 1]], dtype=torch.int32)"
            ]
          },
          "metadata": {
            "tags": []
          },
          "execution_count": 6
        }
      ]
    },
    {
      "cell_type": "markdown",
      "metadata": {
        "id": "9V9i_uLk_hym",
        "colab_type": "text"
      },
      "source": [
        "new_ones is a method of torch.tensor class that creates a tensor of size which is provided as an argument, and fills the newly created tensor with values 1. Here, a tensor of size (2,3) is being created and as evident from the result, all values are 1."
      ]
    },
    {
      "cell_type": "code",
      "metadata": {
        "id": "BFG_Dg5n_hym",
        "colab_type": "code",
        "colab": {
          "base_uri": "https://localhost:8080/",
          "height": 101
        },
        "outputId": "53d02112-bc70-450b-f9e4-567f33795cff"
      },
      "source": [
        "tensor.new_ones(size=(2,2,3), requires_grad=True, dtype=torch.float32)"
      ],
      "execution_count": 8,
      "outputs": [
        {
          "output_type": "execute_result",
          "data": {
            "text/plain": [
              "tensor([[[1., 1., 1.],\n",
              "         [1., 1., 1.]],\n",
              "\n",
              "        [[1., 1., 1.],\n",
              "         [1., 1., 1.]]], requires_grad=True)"
            ]
          },
          "metadata": {
            "tags": []
          },
          "execution_count": 8
        }
      ]
    },
    {
      "cell_type": "markdown",
      "metadata": {
        "id": "Sl63jAf3_hyq",
        "colab_type": "text"
      },
      "source": [
        "In this example, I have created a 3-dimensional tensor, and all the values in the tensor are set to 1. Here I have also provided the requires_grad parameter and set it to True, so that pytorch will remember all the operations done on this tensor."
      ]
    },
    {
      "cell_type": "code",
      "metadata": {
        "id": "xCTWG0sb_hyr",
        "colab_type": "code",
        "colab": {
          "base_uri": "https://localhost:8080/",
          "height": 178
        },
        "outputId": "710d2d61-8b5a-4ab9-9776-ea1b27f1d7aa"
      },
      "source": [
        "# Example 3 - breaking (to illustrate when it breaks)\n",
        "tensor.new_ones(size=(2,2,3), requires_grad=True)"
      ],
      "execution_count": 9,
      "outputs": [
        {
          "output_type": "error",
          "ename": "RuntimeError",
          "evalue": "ignored",
          "traceback": [
            "\u001b[0;31m---------------------------------------------------------------------------\u001b[0m",
            "\u001b[0;31mRuntimeError\u001b[0m                              Traceback (most recent call last)",
            "\u001b[0;32m<ipython-input-9-978895d438f2>\u001b[0m in \u001b[0;36m<module>\u001b[0;34m()\u001b[0m\n\u001b[1;32m      1\u001b[0m \u001b[0;31m# Example 3 - breaking (to illustrate when it breaks)\u001b[0m\u001b[0;34m\u001b[0m\u001b[0;34m\u001b[0m\u001b[0;34m\u001b[0m\u001b[0m\n\u001b[0;32m----> 2\u001b[0;31m \u001b[0mtensor\u001b[0m\u001b[0;34m.\u001b[0m\u001b[0mnew_ones\u001b[0m\u001b[0;34m(\u001b[0m\u001b[0msize\u001b[0m\u001b[0;34m=\u001b[0m\u001b[0;34m(\u001b[0m\u001b[0;36m2\u001b[0m\u001b[0;34m,\u001b[0m\u001b[0;36m2\u001b[0m\u001b[0;34m,\u001b[0m\u001b[0;36m3\u001b[0m\u001b[0;34m)\u001b[0m\u001b[0;34m,\u001b[0m \u001b[0mrequires_grad\u001b[0m\u001b[0;34m=\u001b[0m\u001b[0;32mTrue\u001b[0m\u001b[0;34m)\u001b[0m\u001b[0;34m\u001b[0m\u001b[0;34m\u001b[0m\u001b[0m\n\u001b[0m",
            "\u001b[0;31mRuntimeError\u001b[0m: Only Tensors of floating point and complex dtype can require gradients"
          ]
        }
      ]
    },
    {
      "cell_type": "markdown",
      "metadata": {
        "id": "D-70hpGU_hyw",
        "colab_type": "text"
      },
      "source": [
        "This example is essentially the same as the above one, with the removal of the dtype parameter. In order for pytorch to remember the operations, the type of the tensor needs to be floating point, but our tensor was an integer, so with the removal of dtype parameter, it throws an error."
      ]
    },
    {
      "cell_type": "markdown",
      "metadata": {
        "id": "I6gHp7xQ_hyx",
        "colab_type": "text"
      },
      "source": [
        "Thsi function can be used while creating a new tensor whose values need to be one.\n"
      ]
    },
    {
      "cell_type": "markdown",
      "metadata": {
        "id": "m0GosMDp_hyx",
        "colab_type": "text"
      },
      "source": [
        "## Function 2 - torch.abs()\n",
        "\n",
        "This function returns the absolute values of all the values in the tensor."
      ]
    },
    {
      "cell_type": "code",
      "metadata": {
        "id": "4Nu00Y5G_hyz",
        "colab_type": "code",
        "colab": {
          "base_uri": "https://localhost:8080/",
          "height": 50
        },
        "outputId": "08b53257-cea9-4b1b-a966-863deff20709"
      },
      "source": [
        "tensor = torch.tensor([[-1., -5.], [-2., 3.]], dtype=torch.float32)\n",
        "torch.abs(tensor)"
      ],
      "execution_count": 10,
      "outputs": [
        {
          "output_type": "execute_result",
          "data": {
            "text/plain": [
              "tensor([[1., 5.],\n",
              "        [2., 3.]])"
            ]
          },
          "metadata": {
            "tags": []
          },
          "execution_count": 10
        }
      ]
    },
    {
      "cell_type": "markdown",
      "metadata": {
        "id": "QhSmbCzs_hy5",
        "colab_type": "text"
      },
      "source": [
        "As seen in the output, all the negative numbers are represented by the absolute values."
      ]
    },
    {
      "cell_type": "code",
      "metadata": {
        "id": "EIrsdPYY_hy6",
        "colab_type": "code",
        "colab": {
          "base_uri": "https://localhost:8080/",
          "height": 101
        },
        "outputId": "4674b044-23ad-4480-cb9b-8b55c7356140"
      },
      "source": [
        "tensor = torch.tensor([[[-1., -5.], [-2., 3.]], [[0-2., 3.2], [1.1, -11]]], dtype=torch.float32)\n",
        "torch.abs(tensor)"
      ],
      "execution_count": 13,
      "outputs": [
        {
          "output_type": "execute_result",
          "data": {
            "text/plain": [
              "tensor([[[ 1.0000,  5.0000],\n",
              "         [ 2.0000,  3.0000]],\n",
              "\n",
              "        [[ 2.0000,  3.2000],\n",
              "         [ 1.1000, 11.0000]]])"
            ]
          },
          "metadata": {
            "tags": []
          },
          "execution_count": 13
        }
      ]
    },
    {
      "cell_type": "markdown",
      "metadata": {
        "id": "n4ZQdHPC_hy_",
        "colab_type": "text"
      },
      "source": [
        "\n",
        "Similarly, in this example also, al negatives have been converted to positive numbers."
      ]
    },
    {
      "cell_type": "code",
      "metadata": {
        "id": "K5cYN6Yq_hzA",
        "colab_type": "code",
        "colab": {
          "base_uri": "https://localhost:8080/",
          "height": 195
        },
        "outputId": "af8c7062-d28d-46d6-d655-c35647e7b4d2"
      },
      "source": [
        "# Example 3 - breaking (to illustrate when it breaks)\n",
        "tensor = torch.tensor([[-1., -5.], [-2., 3.], ], dtype=torch.float32)\n",
        "tensor = tensor.numpy()\n",
        "torch.abs(tensor, out=tensor)"
      ],
      "execution_count": 19,
      "outputs": [
        {
          "output_type": "error",
          "ename": "TypeError",
          "evalue": "ignored",
          "traceback": [
            "\u001b[0;31m---------------------------------------------------------------------------\u001b[0m",
            "\u001b[0;31mTypeError\u001b[0m                                 Traceback (most recent call last)",
            "\u001b[0;32m<ipython-input-19-f9b2c1a21cff>\u001b[0m in \u001b[0;36m<module>\u001b[0;34m()\u001b[0m\n\u001b[1;32m      2\u001b[0m \u001b[0mtensor\u001b[0m \u001b[0;34m=\u001b[0m \u001b[0mtorch\u001b[0m\u001b[0;34m.\u001b[0m\u001b[0mtensor\u001b[0m\u001b[0;34m(\u001b[0m\u001b[0;34m[\u001b[0m\u001b[0;34m[\u001b[0m\u001b[0;34m-\u001b[0m\u001b[0;36m1.\u001b[0m\u001b[0;34m,\u001b[0m \u001b[0;34m-\u001b[0m\u001b[0;36m5.\u001b[0m\u001b[0;34m]\u001b[0m\u001b[0;34m,\u001b[0m \u001b[0;34m[\u001b[0m\u001b[0;34m-\u001b[0m\u001b[0;36m2.\u001b[0m\u001b[0;34m,\u001b[0m \u001b[0;36m3.\u001b[0m\u001b[0;34m]\u001b[0m\u001b[0;34m,\u001b[0m \u001b[0;34m]\u001b[0m\u001b[0;34m,\u001b[0m \u001b[0mdtype\u001b[0m\u001b[0;34m=\u001b[0m\u001b[0mtorch\u001b[0m\u001b[0;34m.\u001b[0m\u001b[0mfloat32\u001b[0m\u001b[0;34m)\u001b[0m\u001b[0;34m\u001b[0m\u001b[0;34m\u001b[0m\u001b[0m\n\u001b[1;32m      3\u001b[0m \u001b[0mtensor\u001b[0m \u001b[0;34m=\u001b[0m \u001b[0mtensor\u001b[0m\u001b[0;34m.\u001b[0m\u001b[0mnumpy\u001b[0m\u001b[0;34m(\u001b[0m\u001b[0;34m)\u001b[0m\u001b[0;34m\u001b[0m\u001b[0;34m\u001b[0m\u001b[0m\n\u001b[0;32m----> 4\u001b[0;31m \u001b[0mtorch\u001b[0m\u001b[0;34m.\u001b[0m\u001b[0mabs\u001b[0m\u001b[0;34m(\u001b[0m\u001b[0mtensor\u001b[0m\u001b[0;34m,\u001b[0m \u001b[0mout\u001b[0m\u001b[0;34m=\u001b[0m\u001b[0mtensor\u001b[0m\u001b[0;34m)\u001b[0m\u001b[0;34m\u001b[0m\u001b[0;34m\u001b[0m\u001b[0m\n\u001b[0m",
            "\u001b[0;31mTypeError\u001b[0m: abs(): argument 'input' (position 1) must be Tensor, not numpy.ndarray"
          ]
        }
      ]
    },
    {
      "cell_type": "markdown",
      "metadata": {
        "id": "W_kVFavH_hzF",
        "colab_type": "text"
      },
      "source": [
        "The input to this function should be a tensor, and as in this example, I am sending a numpy array to it, the function gives out an error."
      ]
    },
    {
      "cell_type": "markdown",
      "metadata": {
        "id": "qMnX6wNa_hzG",
        "colab_type": "text"
      },
      "source": [
        "Used when all values need to be positive in a tensor."
      ]
    },
    {
      "cell_type": "markdown",
      "metadata": {
        "id": "u-_qz2Gb_hzG",
        "colab_type": "text"
      },
      "source": [
        "## Function 3 - torch.eq()\n",
        "\n",
        "Used to find out if two tensors are exactly the same, element-wise."
      ]
    },
    {
      "cell_type": "code",
      "metadata": {
        "id": "BIEZg21K_hzH",
        "colab_type": "code",
        "colab": {
          "base_uri": "https://localhost:8080/",
          "height": 50
        },
        "outputId": "7eadb657-feb6-47e9-fbfd-0681ee8b3191"
      },
      "source": [
        "# Example 1 - working\n",
        "tensor1 = torch.tensor([[-1., -5.], [-2., 3.]], dtype=torch.float32)\n",
        "tensor2 = torch.tensor([[-1., -5.], [-2., 3.]], dtype=torch.float32)\n",
        "torch.eq(tensor1, tensor2)"
      ],
      "execution_count": 20,
      "outputs": [
        {
          "output_type": "execute_result",
          "data": {
            "text/plain": [
              "tensor([[True, True],\n",
              "        [True, True]])"
            ]
          },
          "metadata": {
            "tags": []
          },
          "execution_count": 20
        }
      ]
    },
    {
      "cell_type": "markdown",
      "metadata": {
        "id": "pothSmON_hzK",
        "colab_type": "text"
      },
      "source": [
        "\n",
        "In this example, both the tensors are exactly thr same, so this function returns a tensor of same size, with all elements set to True, as all the elements of the two tensors match perfectly."
      ]
    },
    {
      "cell_type": "code",
      "metadata": {
        "id": "hihqdT8D_hzL",
        "colab_type": "code",
        "colab": {
          "base_uri": "https://localhost:8080/",
          "height": 50
        },
        "outputId": "f0c517cf-46de-4159-ce54-4f951f98819d"
      },
      "source": [
        "# Example 2 - working\n",
        "tensor1 = torch.tensor([[-1., -5.], [-2., 3.]], dtype=torch.float32)\n",
        "tensor2 = torch.tensor([[-1, -3]], dtype=torch.int32)\n",
        "torch.eq(tensor1, tensor2)"
      ],
      "execution_count": 31,
      "outputs": [
        {
          "output_type": "execute_result",
          "data": {
            "text/plain": [
              "tensor([[ True, False],\n",
              "        [False, False]])"
            ]
          },
          "metadata": {
            "tags": []
          },
          "execution_count": 31
        }
      ]
    },
    {
      "cell_type": "markdown",
      "metadata": {
        "id": "G1zD_mty_hzQ",
        "colab_type": "text"
      },
      "source": [
        "In this example, the second value of first column doesn't match, and so in the result the value of that position is False, while others are still true. Note that it broadcasts the shape of tensor2 to that of tensor1."
      ]
    },
    {
      "cell_type": "code",
      "metadata": {
        "id": "ot9ErSYY_hzR",
        "colab_type": "code",
        "colab": {
          "base_uri": "https://localhost:8080/",
          "height": 195
        },
        "outputId": "446a7d6d-ce0c-4508-c0b6-1748fe64602b"
      },
      "source": [
        "# Example 3 - breaking (to illustrate when it breaks)\n",
        "tensor1 = torch.tensor((), dtype=torch.float32)\n",
        "tensor2 = torch.tensor((), dtype=torch.int32)\n",
        "tensor1 = tensor1.new_ones((5,2,4,1))\n",
        "tensor2 = tensor2.new_ones(( 3,1,1))\n",
        "torch.eq(tensor2, tensor1)"
      ],
      "execution_count": 28,
      "outputs": [
        {
          "output_type": "error",
          "ename": "RuntimeError",
          "evalue": "ignored",
          "traceback": [
            "\u001b[0;31m---------------------------------------------------------------------------\u001b[0m",
            "\u001b[0;31mRuntimeError\u001b[0m                              Traceback (most recent call last)",
            "\u001b[0;32m<ipython-input-28-a6710f9a1a3d>\u001b[0m in \u001b[0;36m<module>\u001b[0;34m()\u001b[0m\n\u001b[1;32m      4\u001b[0m \u001b[0mtensor1\u001b[0m \u001b[0;34m=\u001b[0m \u001b[0mtensor1\u001b[0m\u001b[0;34m.\u001b[0m\u001b[0mnew_ones\u001b[0m\u001b[0;34m(\u001b[0m\u001b[0;34m(\u001b[0m\u001b[0;36m5\u001b[0m\u001b[0;34m,\u001b[0m\u001b[0;36m2\u001b[0m\u001b[0;34m,\u001b[0m\u001b[0;36m4\u001b[0m\u001b[0;34m,\u001b[0m\u001b[0;36m1\u001b[0m\u001b[0;34m)\u001b[0m\u001b[0;34m)\u001b[0m\u001b[0;34m\u001b[0m\u001b[0;34m\u001b[0m\u001b[0m\n\u001b[1;32m      5\u001b[0m \u001b[0mtensor2\u001b[0m \u001b[0;34m=\u001b[0m \u001b[0mtensor2\u001b[0m\u001b[0;34m.\u001b[0m\u001b[0mnew_ones\u001b[0m\u001b[0;34m(\u001b[0m\u001b[0;34m(\u001b[0m \u001b[0;36m3\u001b[0m\u001b[0;34m,\u001b[0m\u001b[0;36m1\u001b[0m\u001b[0;34m,\u001b[0m\u001b[0;36m1\u001b[0m\u001b[0;34m)\u001b[0m\u001b[0;34m)\u001b[0m\u001b[0;34m\u001b[0m\u001b[0;34m\u001b[0m\u001b[0m\n\u001b[0;32m----> 6\u001b[0;31m \u001b[0mtorch\u001b[0m\u001b[0;34m.\u001b[0m\u001b[0meq\u001b[0m\u001b[0;34m(\u001b[0m\u001b[0mtensor2\u001b[0m\u001b[0;34m,\u001b[0m \u001b[0mtensor1\u001b[0m\u001b[0;34m)\u001b[0m\u001b[0;34m\u001b[0m\u001b[0;34m\u001b[0m\u001b[0m\n\u001b[0m",
            "\u001b[0;31mRuntimeError\u001b[0m: The size of tensor a (3) must match the size of tensor b (2) at non-singleton dimension 1"
          ]
        }
      ]
    },
    {
      "cell_type": "markdown",
      "metadata": {
        "id": "kHqBrZ45_hzW",
        "colab_type": "text"
      },
      "source": [
        "This example gives out an error, as the shapes of the two tensors are different and can't be broadcasted into one another."
      ]
    },
    {
      "cell_type": "markdown",
      "metadata": {
        "id": "DOSc1khM_hzX",
        "colab_type": "text"
      },
      "source": [
        "To check the element-wise equality of two tensors."
      ]
    },
    {
      "cell_type": "markdown",
      "metadata": {
        "id": "WbZThJiA_hzY",
        "colab_type": "text"
      },
      "source": [
        "## Function 4 - torch.flatten()\n",
        "\n",
        "Flattens a contigous set of dimensions of a tensor, converting those dimentions into a single dimension"
      ]
    },
    {
      "cell_type": "code",
      "metadata": {
        "id": "E4Stdm8U_hzZ",
        "colab_type": "code",
        "colab": {
          "base_uri": "https://localhost:8080/",
          "height": 34
        },
        "outputId": "55879461-1b73-4890-ea5f-e7af2f6367be"
      },
      "source": [
        "# Example 1 - working\n",
        "tensor = torch.tensor([[[1, 2],\n",
        "                       [3, 4]],\n",
        "                      [[5, 6],\n",
        "                       [7, 8]]])\n",
        "torch.flatten(tensor)"
      ],
      "execution_count": 32,
      "outputs": [
        {
          "output_type": "execute_result",
          "data": {
            "text/plain": [
              "tensor([1, 2, 3, 4, 5, 6, 7, 8])"
            ]
          },
          "metadata": {
            "tags": []
          },
          "execution_count": 32
        }
      ]
    },
    {
      "cell_type": "markdown",
      "metadata": {
        "id": "Q1QgUgVm_hzc",
        "colab_type": "text"
      },
      "source": [
        "The original tenosr was of size (2,2,2), but the resulting tensor is flattened into a dimention of (1,8)"
      ]
    },
    {
      "cell_type": "code",
      "metadata": {
        "id": "EPqdXfGw_hzd",
        "colab_type": "code",
        "colab": {
          "base_uri": "https://localhost:8080/",
          "height": 50
        },
        "outputId": "cc464d61-2443-483c-fefb-9299b9ef73b1"
      },
      "source": [
        "# Example 2 - working\n",
        "t = torch.tensor([[[1, 2],\n",
        "                       [3, 4]],\n",
        "                      [[5, 6],\n",
        "                       [7, 8]]])\n",
        "torch.flatten(t, 1,2)"
      ],
      "execution_count": 33,
      "outputs": [
        {
          "output_type": "execute_result",
          "data": {
            "text/plain": [
              "tensor([[1, 2, 3, 4],\n",
              "        [5, 6, 7, 8]])"
            ]
          },
          "metadata": {
            "tags": []
          },
          "execution_count": 33
        }
      ]
    },
    {
      "cell_type": "markdown",
      "metadata": {
        "id": "8C75kcnU_hzi",
        "colab_type": "text"
      },
      "source": [
        "This example specifies the start and end dimensions to be flattened, and so the 0th dimention remains the same, but dim 1 and 2 are flattened."
      ]
    },
    {
      "cell_type": "code",
      "metadata": {
        "id": "vsYeOUJ5_hzi",
        "colab_type": "code",
        "colab": {
          "base_uri": "https://localhost:8080/",
          "height": 195
        },
        "outputId": "f3ced936-4f9f-402e-b1a6-c648db2c485a"
      },
      "source": [
        "# Example 3 - breaking (to illustrate when it breaks)\n",
        "t = torch.tensor([[[1, 2],\n",
        "                       [3, 4]],\n",
        "                      [[5, 6],\n",
        "                       [7, 8]]])\n",
        "torch.flatten(t, 2,3)"
      ],
      "execution_count": 36,
      "outputs": [
        {
          "output_type": "error",
          "ename": "IndexError",
          "evalue": "ignored",
          "traceback": [
            "\u001b[0;31m---------------------------------------------------------------------------\u001b[0m",
            "\u001b[0;31mIndexError\u001b[0m                                Traceback (most recent call last)",
            "\u001b[0;32m<ipython-input-36-e8853d08c4d5>\u001b[0m in \u001b[0;36m<module>\u001b[0;34m()\u001b[0m\n\u001b[1;32m      4\u001b[0m                       [[5, 6],\n\u001b[1;32m      5\u001b[0m                        [7, 8]]])\n\u001b[0;32m----> 6\u001b[0;31m \u001b[0mtorch\u001b[0m\u001b[0;34m.\u001b[0m\u001b[0mflatten\u001b[0m\u001b[0;34m(\u001b[0m\u001b[0mt\u001b[0m\u001b[0;34m,\u001b[0m \u001b[0;36m2\u001b[0m\u001b[0;34m,\u001b[0m\u001b[0;36m3\u001b[0m\u001b[0;34m)\u001b[0m\u001b[0;34m\u001b[0m\u001b[0;34m\u001b[0m\u001b[0m\n\u001b[0m",
            "\u001b[0;31mIndexError\u001b[0m: Dimension out of range (expected to be in range of [-3, 2], but got 3)"
          ]
        }
      ]
    },
    {
      "cell_type": "markdown",
      "metadata": {
        "id": "Arhj_lM2_hzl",
        "colab_type": "text"
      },
      "source": [
        "Be careful of the dimesions provided, as it will give an error if the dimensions are not in range. They are zero-indexed."
      ]
    },
    {
      "cell_type": "markdown",
      "metadata": {
        "id": "WWq3q3V8_hzm",
        "colab_type": "text"
      },
      "source": [
        "Converting the tensor into a simpler stacked up version of the original .\n",
        "\n"
      ]
    },
    {
      "cell_type": "markdown",
      "metadata": {
        "id": "uE342Asl_hzm",
        "colab_type": "text"
      },
      "source": [
        "## Function 5 - torch.reciprocal()\n",
        "\n",
        "Outputs the reciprocal of a tensor."
      ]
    },
    {
      "cell_type": "code",
      "metadata": {
        "id": "bgo92Hfr_hzo",
        "colab_type": "code",
        "colab": {
          "base_uri": "https://localhost:8080/",
          "height": 50
        },
        "outputId": "c3812c1c-111a-40f0-d61a-2c1a5747b5cb"
      },
      "source": [
        "# Example 1 - working\n",
        "a = torch.randn(4)\n",
        "print(a)\n",
        "torch.reciprocal(a)"
      ],
      "execution_count": 37,
      "outputs": [
        {
          "output_type": "stream",
          "text": [
            "tensor([-0.7535,  0.7546,  1.1911, -0.6182])\n"
          ],
          "name": "stdout"
        },
        {
          "output_type": "execute_result",
          "data": {
            "text/plain": [
              "tensor([-1.3271,  1.3253,  0.8396, -1.6177])"
            ]
          },
          "metadata": {
            "tags": []
          },
          "execution_count": 37
        }
      ]
    },
    {
      "cell_type": "markdown",
      "metadata": {
        "id": "ca1AmOwo_hzs",
        "colab_type": "text"
      },
      "source": [
        "Simply returns the reciprocal of the tensor."
      ]
    },
    {
      "cell_type": "code",
      "metadata": {
        "id": "vMwo-OGH_hzs",
        "colab_type": "code",
        "colab": {
          "base_uri": "https://localhost:8080/",
          "height": 84
        },
        "outputId": "33b00055-434e-4023-c323-1944f3acef9f"
      },
      "source": [
        "# Example 2 - working\n",
        "a = torch.randn((2,3))\n",
        "print(a)\n",
        "torch.reciprocal(a)"
      ],
      "execution_count": 38,
      "outputs": [
        {
          "output_type": "stream",
          "text": [
            "tensor([[ 0.6655, -0.0745,  0.3085],\n",
            "        [ 0.2911,  0.7403, -0.6925]])\n"
          ],
          "name": "stdout"
        },
        {
          "output_type": "execute_result",
          "data": {
            "text/plain": [
              "tensor([[  1.5025, -13.4183,   3.2415],\n",
              "        [  3.4347,   1.3508,  -1.4440]])"
            ]
          },
          "metadata": {
            "tags": []
          },
          "execution_count": 38
        }
      ]
    },
    {
      "cell_type": "markdown",
      "metadata": {
        "id": "wc7U5vla_hzw",
        "colab_type": "text"
      },
      "source": [
        "The output is of the same size as teh input, but they are the reciprocates of one another."
      ]
    },
    {
      "cell_type": "code",
      "metadata": {
        "id": "mksyppLW_hzx",
        "colab_type": "code",
        "colab": {
          "base_uri": "https://localhost:8080/",
          "height": 229
        },
        "outputId": "77c43136-4ea9-46f6-85af-4ee024e6275a"
      },
      "source": [
        "# Example 3 - breaking (to illustrate when it breaks)\n",
        "a = tensor.new_zeros((2,3))\n",
        "print(a)\n",
        "torch.reciprocal(a)"
      ],
      "execution_count": 39,
      "outputs": [
        {
          "output_type": "stream",
          "text": [
            "tensor([[0, 0, 0],\n",
            "        [0, 0, 0]])\n"
          ],
          "name": "stdout"
        },
        {
          "output_type": "error",
          "ename": "RuntimeError",
          "evalue": "ignored",
          "traceback": [
            "\u001b[0;31m---------------------------------------------------------------------------\u001b[0m",
            "\u001b[0;31mRuntimeError\u001b[0m                              Traceback (most recent call last)",
            "\u001b[0;32m<ipython-input-39-617d7c10910d>\u001b[0m in \u001b[0;36m<module>\u001b[0;34m()\u001b[0m\n\u001b[1;32m      2\u001b[0m \u001b[0ma\u001b[0m \u001b[0;34m=\u001b[0m \u001b[0mtensor\u001b[0m\u001b[0;34m.\u001b[0m\u001b[0mnew_zeros\u001b[0m\u001b[0;34m(\u001b[0m\u001b[0;34m(\u001b[0m\u001b[0;36m2\u001b[0m\u001b[0;34m,\u001b[0m\u001b[0;36m3\u001b[0m\u001b[0;34m)\u001b[0m\u001b[0;34m)\u001b[0m\u001b[0;34m\u001b[0m\u001b[0;34m\u001b[0m\u001b[0m\n\u001b[1;32m      3\u001b[0m \u001b[0mprint\u001b[0m\u001b[0;34m(\u001b[0m\u001b[0ma\u001b[0m\u001b[0;34m)\u001b[0m\u001b[0;34m\u001b[0m\u001b[0;34m\u001b[0m\u001b[0m\n\u001b[0;32m----> 4\u001b[0;31m \u001b[0mtorch\u001b[0m\u001b[0;34m.\u001b[0m\u001b[0mreciprocal\u001b[0m\u001b[0;34m(\u001b[0m\u001b[0ma\u001b[0m\u001b[0;34m)\u001b[0m\u001b[0;34m\u001b[0m\u001b[0;34m\u001b[0m\u001b[0m\n\u001b[0m",
            "\u001b[0;31mRuntimeError\u001b[0m: \"reciprocal_cpu\" not implemented for 'Long'"
          ]
        }
      ]
    },
    {
      "cell_type": "markdown",
      "metadata": {
        "id": "s_NV1CWI_hz1",
        "colab_type": "text"
      },
      "source": [
        "The reciprocal of a zero matrix does not exist, and so the error"
      ]
    },
    {
      "cell_type": "markdown",
      "metadata": {
        "id": "ZHS_-SPf_hz1",
        "colab_type": "text"
      },
      "source": [
        ""
      ]
    },
    {
      "cell_type": "markdown",
      "metadata": {
        "id": "Jh8cg0DL_hz2",
        "colab_type": "text"
      },
      "source": [
        "## Conclusion\n",
        "\n",
        "Summarize what was covered in this notebook, and where to go next"
      ]
    },
    {
      "cell_type": "markdown",
      "metadata": {
        "id": "gKh3vp_Z_hz2",
        "colab_type": "text"
      },
      "source": [
        "## Reference Links\n",
        "Provide links to your references and other interesting articles about tensors\n",
        "* Official documentation for `torch.Tensor`: https://pytorch.org/docs/stable/tensors.html\n",
        "* ..."
      ]
    },
    {
      "cell_type": "code",
      "metadata": {
        "id": "SWS4UkCE_hz3",
        "colab_type": "code",
        "colab": {
          "base_uri": "https://localhost:8080/",
          "height": 50
        },
        "outputId": "ae51b20c-8545-4c14-b5b5-bf8d7169b9a2"
      },
      "source": [
        "!pip install jovian --upgrade --quiet"
      ],
      "execution_count": 40,
      "outputs": [
        {
          "output_type": "stream",
          "text": [
            "\u001b[?25l\r\u001b[K     |█████                           | 10kB 16.0MB/s eta 0:00:01\r\u001b[K     |██████████▏                     | 20kB 1.7MB/s eta 0:00:01\r\u001b[K     |███████████████▏                | 30kB 2.3MB/s eta 0:00:01\r\u001b[K     |████████████████████▎           | 40kB 2.5MB/s eta 0:00:01\r\u001b[K     |█████████████████████████▎      | 51kB 2.0MB/s eta 0:00:01\r\u001b[K     |██████████████████████████████▍ | 61kB 2.2MB/s eta 0:00:01\r\u001b[K     |████████████████████████████████| 71kB 2.0MB/s \n",
            "\u001b[?25h  Building wheel for uuid (setup.py) ... \u001b[?25l\u001b[?25hdone\n"
          ],
          "name": "stdout"
        }
      ]
    },
    {
      "cell_type": "code",
      "metadata": {
        "id": "bF4dPgox_hz6",
        "colab_type": "code",
        "colab": {}
      },
      "source": [
        "import jovian"
      ],
      "execution_count": 41,
      "outputs": []
    },
    {
      "cell_type": "code",
      "metadata": {
        "id": "2_0CubLu_hz9",
        "colab_type": "code",
        "colab": {
          "base_uri": "https://localhost:8080/",
          "height": 354
        },
        "outputId": "8ac53d7c-cc9d-4396-cf44-c20c63e5edd4"
      },
      "source": [
        "jovian.commit(project = 'assignment1')"
      ],
      "execution_count": 43,
      "outputs": [
        {
          "output_type": "stream",
          "text": [
            "[jovian] Detected Colab notebook...\u001b[0m\n"
          ],
          "name": "stdout"
        },
        {
          "output_type": "stream",
          "text": [
            "\u001b[31m[jovian] Error: Colab File Id is not provided\u001b[0m\n"
          ],
          "name": "stderr"
        },
        {
          "output_type": "stream",
          "text": [
            "[jovian] Please enter your API key ( from https://jovian.ml/ ):\u001b[0m\n",
            "API KEY: ··········\n",
            "[jovian] Uploading colab notebook to Jovian...\u001b[0m\n"
          ],
          "name": "stdout"
        },
        {
          "output_type": "error",
          "ename": "ApiError",
          "evalue": "ignored",
          "traceback": [
            "\u001b[0;31m---------------------------------------------------------------------------\u001b[0m",
            "\u001b[0;31mApiError\u001b[0m                                  Traceback (most recent call last)",
            "\u001b[0;32m<ipython-input-43-a19a7eac167c>\u001b[0m in \u001b[0;36m<module>\u001b[0;34m()\u001b[0m\n\u001b[0;32m----> 1\u001b[0;31m \u001b[0mjovian\u001b[0m\u001b[0;34m.\u001b[0m\u001b[0mcommit\u001b[0m\u001b[0;34m(\u001b[0m\u001b[0mproject\u001b[0m \u001b[0;34m=\u001b[0m \u001b[0;34m'assignment1'\u001b[0m\u001b[0;34m)\u001b[0m\u001b[0;34m\u001b[0m\u001b[0;34m\u001b[0m\u001b[0m\n\u001b[0m",
            "\u001b[0;32m/usr/local/lib/python3.6/dist-packages/jovian/utils/commit.py\u001b[0m in \u001b[0;36mcommit\u001b[0;34m(message, files, outputs, environment, privacy, filename, project, new_project, git_commit, git_message, **kwargs)\u001b[0m\n\u001b[1;32m    131\u001b[0m             \u001b[0;32mreturn\u001b[0m\u001b[0;34m\u001b[0m\u001b[0;34m\u001b[0m\u001b[0m\n\u001b[1;32m    132\u001b[0m \u001b[0;34m\u001b[0m\u001b[0m\n\u001b[0;32m--> 133\u001b[0;31m         \u001b[0mres\u001b[0m \u001b[0;34m=\u001b[0m \u001b[0mperform_colab_commit\u001b[0m\u001b[0;34m(\u001b[0m\u001b[0mproject\u001b[0m\u001b[0;34m,\u001b[0m \u001b[0mprivacy\u001b[0m\u001b[0;34m)\u001b[0m\u001b[0;34m\u001b[0m\u001b[0;34m\u001b[0m\u001b[0m\n\u001b[0m\u001b[1;32m    134\u001b[0m         \u001b[0musername\u001b[0m \u001b[0;34m=\u001b[0m \u001b[0mres\u001b[0m\u001b[0;34m[\u001b[0m\u001b[0;34m'owner'\u001b[0m\u001b[0;34m]\u001b[0m\u001b[0;34m[\u001b[0m\u001b[0;34m'username'\u001b[0m\u001b[0;34m]\u001b[0m\u001b[0;34m\u001b[0m\u001b[0;34m\u001b[0m\u001b[0m\n\u001b[1;32m    135\u001b[0m         \u001b[0mtitle\u001b[0m \u001b[0;34m=\u001b[0m \u001b[0mres\u001b[0m\u001b[0;34m[\u001b[0m\u001b[0;34m'title'\u001b[0m\u001b[0;34m]\u001b[0m\u001b[0;34m\u001b[0m\u001b[0;34m\u001b[0m\u001b[0m\n",
            "\u001b[0;32m/usr/local/lib/python3.6/dist-packages/jovian/utils/colab.py\u001b[0m in \u001b[0;36mperform_colab_commit\u001b[0;34m(project, privacy)\u001b[0m\n\u001b[1;32m     51\u001b[0m     \u001b[0;32mif\u001b[0m \u001b[0mres\u001b[0m\u001b[0;34m.\u001b[0m\u001b[0mstatus_code\u001b[0m \u001b[0;34m==\u001b[0m \u001b[0;36m200\u001b[0m\u001b[0;34m:\u001b[0m\u001b[0;34m\u001b[0m\u001b[0;34m\u001b[0m\u001b[0m\n\u001b[1;32m     52\u001b[0m         \u001b[0;32mreturn\u001b[0m \u001b[0mres\u001b[0m\u001b[0;34m.\u001b[0m\u001b[0mjson\u001b[0m\u001b[0;34m(\u001b[0m\u001b[0;34m)\u001b[0m\u001b[0;34m[\u001b[0m\u001b[0;34m'data'\u001b[0m\u001b[0;34m]\u001b[0m\u001b[0;34m\u001b[0m\u001b[0;34m\u001b[0m\u001b[0m\n\u001b[0;32m---> 53\u001b[0;31m     \u001b[0;32mraise\u001b[0m \u001b[0mApiError\u001b[0m\u001b[0;34m(\u001b[0m\u001b[0;34m'Colab commit failed: '\u001b[0m \u001b[0;34m+\u001b[0m \u001b[0mpretty\u001b[0m\u001b[0;34m(\u001b[0m\u001b[0mres\u001b[0m\u001b[0;34m)\u001b[0m\u001b[0;34m)\u001b[0m\u001b[0;34m\u001b[0m\u001b[0;34m\u001b[0m\u001b[0m\n\u001b[0m",
            "\u001b[0;31mApiError\u001b[0m: Colab commit failed: (HTTP 403) Please integrate your Google Drive with your Jovian account"
          ]
        }
      ]
    },
    {
      "cell_type": "code",
      "metadata": {
        "id": "LeKgIN_c_h0C",
        "colab_type": "code",
        "colab": {}
      },
      "source": [
        ""
      ],
      "execution_count": null,
      "outputs": []
    }
  ]
}